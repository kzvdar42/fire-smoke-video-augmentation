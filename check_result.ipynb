{
 "cells": [
  {
   "cell_type": "code",
   "execution_count": 2,
   "metadata": {},
   "outputs": [],
   "source": [
    "from pycocotools.coco import COCO\n",
    "import json\n",
    "import cv2\n",
    "import os\n",
    "from glob import glob\n",
    "\n",
    "import numpy as np"
   ]
  },
  {
   "cell_type": "code",
   "execution_count": 21,
   "metadata": {
    "scrolled": true
   },
   "outputs": [
    {
     "name": "stdout",
     "output_type": "stream",
     "text": [
      "loading annotations into memory...\n",
      "Done (t=0.01s)\n",
      "creating index...\n",
      "index created!\n"
     ]
    }
   ],
   "source": [
    "cocos = [\n",
    "#     COCO('C:/Users/kzvda/Desktop/fire-smoke-video-augmentation/output/test/annotations/instances_default.json'),\n",
    "#     COCO('C:/Users/kzvda/Desktop/RoadAR/ufa/EfficientDet/data/instances_default.json')\n",
    "#     COCO('C:/Users/kzvda/Desktop/RoadAR/Untitled Folder/assignments_from_pool_16964282__02-10-2020.json'),\n",
    "#     COCO('C:/Users/kzvda/Desktop/RoadAR/Untitled Folder/assignments_from_pool_17095601__06-10-2020.json')\n",
    "#     COCO('C:/Users/kzvda/Desktop/RoadAR/fire-smoke-video-augmentation/out/2020-06-23_16-40-40.mp4/annotations/instances_default.json')\n",
    "#       COCO('C:/Users/kzvda/Desktop/RoadAR/fire-smoke-video-augmentation/output/2020-06-23_16-40-40.mp4/annotations/instances_default.json')\n",
    "#     COCO(r'C:\\Users\\kzvda\\Desktop\\RoadAR\\ufa\\EfficientDet\\ufa_night_03.11\\instances_default.json')\n",
    "#     COCO(r'C:\\Users\\kzvda\\Desktop\\utro-10.233.44.193-2020.11.09\\10.233.44.193-2020.11.09-08.09.38\\annotations\\instances_default.json'),\n",
    "    COCO(r'C:\\Users\\kzvda\\Desktop\\PanoramaImageViewer-master\\test_crop_out\\sign-out\\annotations\\instances_default.json')\n",
    "]"
   ]
  },
  {
   "cell_type": "code",
   "execution_count": 22,
   "metadata": {},
   "outputs": [],
   "source": [
    "coco = cocos[0]"
   ]
  },
  {
   "cell_type": "code",
   "execution_count": 23,
   "metadata": {},
   "outputs": [],
   "source": [
    "path2img_id = dict()\n",
    "for img in coco.imgs.values():\n",
    "    path2img_id[img['file_name']] = img['id']\n",
    "coco.__dict__['path2img_id'] = path2img_id"
   ]
  },
  {
   "cell_type": "code",
   "execution_count": 24,
   "metadata": {},
   "outputs": [
    {
     "name": "stdout",
     "output_type": "stream",
     "text": [
      "sign 840\n"
     ]
    }
   ],
   "source": [
    "for cat_id in coco.cats:\n",
    "    print(coco.cats[cat_id]['name'], len(coco.getAnnIds(catIds=cat_id)))"
   ]
  },
  {
   "cell_type": "code",
   "execution_count": 25,
   "metadata": {},
   "outputs": [],
   "source": [
    "anns = coco.anns\n",
    "imgs = coco.imgs"
   ]
  },
  {
   "cell_type": "code",
   "execution_count": 26,
   "metadata": {},
   "outputs": [
    {
     "data": {
      "text/plain": [
       "(840, 840)"
      ]
     },
     "execution_count": 26,
     "metadata": {},
     "output_type": "execute_result"
    }
   ],
   "source": [
    "len(anns), len(imgs)"
   ]
  },
  {
   "cell_type": "code",
   "execution_count": 9,
   "metadata": {},
   "outputs": [
    {
     "data": {
      "text/plain": [
       "({'height': 1080,\n",
       "  'date_captured': None,\n",
       "  'dataset': 'Roadar',\n",
       "  'id': 1,\n",
       "  'file_name': 'images/41.672032_-73.57645500000001/2Y3zVryKwrYJcbjWHnY4zQ_9_2016_5_0.jpg',\n",
       "  'image': 'images/41.672032_-73.57645500000001/2Y3zVryKwrYJcbjWHnY4zQ_9_2016_5_0.jpg',\n",
       "  'flickr_url': None,\n",
       "  'coco_url': None,\n",
       "  'width': 1920,\n",
       "  'license': None},\n",
       " {'height': 1080,\n",
       "  'date_captured': None,\n",
       "  'dataset': 'Roadar',\n",
       "  'id': 700,\n",
       "  'file_name': 'images/41.116749999999996_-73.860398/-EEUEHo6vORBzuvRd1XirA_9_2019_5_9.jpg',\n",
       "  'image': 'images/41.116749999999996_-73.860398/-EEUEHo6vORBzuvRd1XirA_9_2019_5_9.jpg',\n",
       "  'flickr_url': None,\n",
       "  'coco_url': None,\n",
       "  'width': 1920,\n",
       "  'license': None})"
      ]
     },
     "execution_count": 9,
     "metadata": {},
     "output_type": "execute_result"
    }
   ],
   "source": [
    "coco.imgs[list(coco.imgs)[0]], coco.imgs[list(coco.imgs)[-1]]"
   ]
  },
  {
   "cell_type": "code",
   "execution_count": 10,
   "metadata": {},
   "outputs": [
    {
     "data": {
      "text/plain": [
       "{'image_id': 1,\n",
       " 'segmentation': None,\n",
       " 'iscrowd': 0,\n",
       " 'bbox': [645, 912, 679, 971],\n",
       " 'attributes': {},\n",
       " 'area': 885552,\n",
       " 'is_occluded': False,\n",
       " 'id': 1,\n",
       " 'category_id': 1}"
      ]
     },
     "execution_count": 10,
     "metadata": {},
     "output_type": "execute_result"
    }
   ],
   "source": [
    "coco.anns[1]"
   ]
  },
  {
   "cell_type": "code",
   "execution_count": 28,
   "metadata": {},
   "outputs": [
    {
     "name": "stdout",
     "output_type": "stream",
     "text": [
      "1 [722, 675, 745, 713]\n",
      "1 [642, 885, 666, 924]\n",
      "1 [1308, 186, 1377, 296]\n",
      "1 [1146, 917, 1169, 957]\n",
      "1 [1146, 652, 1162, 677]\n",
      "1 [944, 792, 960, 820]\n",
      "1 [826, 407, 926, 577]\n",
      "1 [1336, 331, 1369, 376]\n",
      "1 [945, 408, 959, 431]\n",
      "1 [666, 904, 690, 943]\n",
      "1 [1159, 182, 1190, 229]\n",
      "1 [531, 823, 566, 883]\n",
      "1 [1312, 290, 1328, 329]\n",
      "1 [821, 696, 831, 735]\n",
      "1 [1326, 795, 1351, 893]\n",
      "1 [526, 83, 555, 180]\n",
      "1 [686, 445, 697, 471]\n",
      "1 [1188, 211, 1203, 249]\n",
      "1 [952, 439, 960, 470]\n",
      "1 [1355, 434, 1370, 469]\n",
      "1 [911, 586, 929, 656]\n",
      "1 [910, 858, 942, 990]\n",
      "1 [1353, 715, 1362, 748]\n",
      "1 [1208, 832, 1219, 874]\n",
      "1 [1279, 392, 1297, 412]\n",
      "1 [781, 485, 799, 507]\n",
      "1 [1373, 554, 1406, 595]\n",
      "1 [874, 487, 889, 506]\n",
      "1 [605, 239, 631, 270]\n",
      "1 [703, 731, 719, 752]\n"
     ]
    }
   ],
   "source": [
    "for i, (img_id, img_info) in enumerate(coco.imgs.items()):\n",
    "    ann_ids = coco.getAnnIds(imgIds=img_id, iscrowd=None)\n",
    "    im_path = r'C:\\Users\\kzvda\\Desktop\\PanoramaImageViewer-master\\test_crop_out\\sign-out/' + img_info['file_name']\n",
    "    im_anns = coco.loadAnns(ann_ids)\n",
    "    has_animal = False\n",
    "    for obj in im_anns:\n",
    "        cat_name = coco.cats[obj['category_id']]['name']\n",
    "        if cat_name in ['cat', 'dog', 'horse', 'sheep', 'cow', 'elephant']:\n",
    "            has_animal = True\n",
    "            break\n",
    "#     if not has_animal:\n",
    "#         continue\n",
    "    image1 = cv2.imread(im_path)\n",
    "    if image1 is None:\n",
    "        print('Empty image at', im_path)\n",
    "    for obj in im_anns:\n",
    "        bbox = obj['bbox'].copy()\n",
    "        assert len(bbox) == 4, \"BBOX should have 4 elements!\"\n",
    "        bbox[2] += bbox[0]\n",
    "        bbox[3] += bbox[1]\n",
    "        print(obj['category_id'], bbox)\n",
    "        cv2.rectangle(image1, (int(bbox[0]), int(bbox[1])), (int(bbox[2]), int(bbox[3])), (22,48,163), 2)\n",
    "#         cat_name = out_classes[obj['category_id']]\n",
    "        cat_name = coco.cats[obj['category_id']]['name']\n",
    "        cv2.putText(image1, cat_name, (int(bbox[0]), int(bbox[1]) + 20),\n",
    "                    cv2.FONT_HERSHEY_SIMPLEX,\n",
    "                    1, (255, 255, 255), 4)\n",
    "#         cv2.rectangle(image2, (bbox[0], bbox[1]), (bbox[2], bbox[3]), (22,48,163), 2)\n",
    "    \n",
    "    cv2.imshow('img1', cv2.resize(image1, (1920, 1080)))\n",
    "#     cv2.imshow('img1', cv2.resize(image1, (1280, 720)))\n",
    "#     cv2.imshow('img2', cv2.resize(image2, (1280, 720)))\n",
    "    key = cv2.waitKey(0) & 0xFF\n",
    "    if key == ord('q'):\n",
    "        break\n",
    "cv2.destroyAllWindows()"
   ]
  },
  {
   "cell_type": "code",
   "execution_count": null,
   "metadata": {},
   "outputs": [],
   "source": []
  }
 ],
 "metadata": {
  "kernelspec": {
   "display_name": "Python 3",
   "language": "python",
   "name": "python3"
  },
  "language_info": {
   "codemirror_mode": {
    "name": "ipython",
    "version": 3
   },
   "file_extension": ".py",
   "mimetype": "text/x-python",
   "name": "python",
   "nbconvert_exporter": "python",
   "pygments_lexer": "ipython3",
   "version": "3.7.9"
  }
 },
 "nbformat": 4,
 "nbformat_minor": 2
}
