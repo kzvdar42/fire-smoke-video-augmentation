{
 "cells": [
  {
   "cell_type": "code",
   "execution_count": 1,
   "metadata": {},
   "outputs": [],
   "source": [
    "import os\n",
    "from glob import glob\n",
    "import numpy as np\n",
    "import json\n",
    "\n",
    "import cv2\n",
    "from tqdm.notebook import tqdm\n",
    "\n",
    "import ffmpeg_utils\n",
    "from augment import Augmentations\n",
    "from writer import COCO_writer\n",
    "from bbox_utils import get_scale_ratio, resize_by_max_side"
   ]
  },
  {
   "cell_type": "markdown",
   "metadata": {},
   "source": [
    "### Preprocess effects"
   ]
  },
  {
   "cell_type": "code",
   "execution_count": 2,
   "metadata": {},
   "outputs": [],
   "source": [
    "raw_png_effects_path = 'effects/raw_fire_images'\n",
    "prep_png_effects_path = 'effects/prep_fire_images'\n",
    "raw_mov_effects_path = 'effects/raw_fire_vid'\n",
    "prep_mov_effects_path = 'effects/prep_fire_vid'\n",
    "\n",
    "vid_out_path = 'output/out.mp4'\n",
    "annot_out_path = 'output/annotations/instances_default.json'"
   ]
  },
  {
   "cell_type": "code",
   "execution_count": 3,
   "metadata": {},
   "outputs": [],
   "source": [
    "# Rename and trim empty pixels\n",
    "for i, effect_path in enumerate(glob(os.path.join(raw_png_effects_path, '*.png'))):\n",
    "    e_img = cv2.imread(effect_path, cv2.IMREAD_UNCHANGED)\n",
    "    # Trim empty pixels\n",
    "    y, x = e_img[:, :, 3].nonzero()\n",
    "    minx, miny = np.min(x), np.min(y)\n",
    "    maxx, maxy = np.max(x), np.max(y)\n",
    "    e_img = e_img[miny:maxy, minx:maxx]\n",
    "    # Resize to 512px\n",
    "    scale_ratio = get_scale_ratio(e_img, 512)\n",
    "    e_img = resize_by_max_side(e_img, scale_ratio)\n",
    "    cv2.imwrite(os.path.join(prep_png_effects_path, f'fire-{i}.png'), e_img)"
   ]
  },
  {
   "cell_type": "code",
   "execution_count": 4,
   "metadata": {},
   "outputs": [],
   "source": [
    "# Rename videos\n",
    "for i, mov_path in enumerate(glob(os.path.join(raw_mov_effects_path, '*.mov'))):\n",
    "    path = os.path.split(mov_path)[0]\n",
    "    os.rename(mov_path, os.path.join(path, f'fire-{i}.mov'))"
   ]
  },
  {
   "cell_type": "code",
   "execution_count": 5,
   "metadata": {},
   "outputs": [],
   "source": [
    "# Resize and extract alpha videos\n",
    "\n",
    "# for input_path in glob(os.path.join(raw_mov_effects_path, '*.mov')):\n",
    "#     input_path = os.path.abspath(input_path)\n",
    "#     filename = os.path.splitext(os.path.split(input_path)[1])[0]\n",
    "#     out_path = os.path.join(prep_mov_effects_path, filename + '.webm')\n",
    "#     out_path = os.path.abspath(out_path)\n",
    "#     ffmpeg_utils.convert_mov2webm(input_path, out_path)\n",
    "#     ffmpeg_utils.extract_alpha(out_path)"
   ]
  },
  {
   "cell_type": "code",
   "execution_count": 6,
   "metadata": {},
   "outputs": [
    {
     "data": {
      "text/plain": [
       "(['effects/prep_fire_images\\\\fire-0.png',\n",
       "  'effects/prep_fire_images\\\\fire-1.png',\n",
       "  'effects/prep_fire_images\\\\fire-2.png'],\n",
       " ['effects/prep_fire_vid\\\\fire-0.webm',\n",
       "  'effects/prep_fire_vid\\\\fire-1.webm',\n",
       "  'effects/prep_fire_vid\\\\fire-2.webm',\n",
       "  'effects/prep_fire_vid\\\\fire-3.webm',\n",
       "  'effects/prep_fire_vid\\\\fire-4.webm',\n",
       "  'effects/prep_fire_vid\\\\fire-5.webm',\n",
       "  'effects/prep_fire_vid\\\\fire-6.webm',\n",
       "  'effects/prep_fire_vid\\\\fire-7.webm'])"
      ]
     },
     "execution_count": 6,
     "metadata": {},
     "output_type": "execute_result"
    }
   ],
   "source": [
    "png_effects = glob(os.path.join(prep_png_effects_path, '*.png'))\n",
    "mov_effects = glob(os.path.join(prep_mov_effects_path, '*.webm'))\n",
    "png_effects, mov_effects"
   ]
  },
  {
   "cell_type": "markdown",
   "metadata": {},
   "source": [
    "### Augment"
   ]
  },
  {
   "cell_type": "code",
   "execution_count": 7,
   "metadata": {},
   "outputs": [
    {
     "data": {
      "text/plain": [
       "['source_videos\\\\2020-06-23_16-40-40.mp4',\n",
       " 'source_videos\\\\2020-06-23_17-40-41.mp4',\n",
       " 'source_videos\\\\stream_OV1_2020-08-01_09_58_11.ts.mp4',\n",
       " 'source_videos\\\\stream_OV1_2020-08-01_09_58_50.ts.mp4',\n",
       " 'source_videos\\\\stream_OV1_2020-08-01_10_00_12.ts.mp4',\n",
       " 'source_videos\\\\stream_OV1_2020-08-01_10_00_39.ts.mp4',\n",
       " 'source_videos\\\\stream_OV1_2020-08-01_10_01_29.ts.mp4',\n",
       " 'source_videos\\\\stream_OV1_2020-08-01_10_01_56.ts.mp4',\n",
       " 'source_videos\\\\stream_OV1_2020-08-01_10_02_31.ts.mp4',\n",
       " 'source_videos\\\\stream_OV1_2020-08-01_10_03_28.ts.mp4',\n",
       " 'source_videos\\\\stream_OV1_2020-08-01_10_04_06.ts.mp4',\n",
       " 'source_videos\\\\stream_OV1_2020-08-01_10_04_34.ts.mp4',\n",
       " 'source_videos\\\\stream_OV1_2020-08-01_10_05_28.ts.mp4',\n",
       " 'source_videos\\\\stream_OV1_2020-08-01_11_59_21.ts.mp4']"
      ]
     },
     "execution_count": 7,
     "metadata": {},
     "output_type": "execute_result"
    }
   ],
   "source": [
    "source_videos = glob('source_videos/*')\n",
    "source_videos"
   ]
  },
  {
   "cell_type": "code",
   "execution_count": 12,
   "metadata": {},
   "outputs": [
    {
     "name": "stdout",
     "output_type": "stream",
     "text": [
      "loading annotations into memory...\n",
      "Done (t=0.00s)\n",
      "creating index...\n",
      "index created!\n",
      "loading annotations into memory...\n",
      "Done (t=0.00s)\n",
      "creating index...\n",
      "index created!\n",
      "loading annotations into memory...\n",
      "Done (t=0.00s)\n",
      "creating index...\n",
      "index created!\n",
      "loading annotations into memory...\n",
      "Done (t=0.00s)\n",
      "creating index...\n",
      "index created!\n",
      "loading annotations into memory...\n",
      "Done (t=0.00s)\n",
      "creating index...\n",
      "index created!\n",
      "loading annotations into memory...\n",
      "Done (t=0.00s)\n",
      "creating index...\n",
      "index created!\n",
      "loading annotations into memory...\n",
      "Done (t=0.00s)\n",
      "creating index...\n",
      "index created!\n",
      "loading annotations into memory...\n",
      "Done (t=0.00s)\n",
      "creating index...\n",
      "index created!\n"
     ]
    },
    {
     "data": {
      "application/vnd.jupyter.widget-view+json": {
       "model_id": "4d45c5d5fc754461b889f5eef51ae880",
       "version_major": 2,
       "version_minor": 0
      },
      "text/plain": [
       "HBox(children=(FloatProgress(value=0.0, max=15004.0), HTML(value='')))"
      ]
     },
     "metadata": {},
     "output_type": "display_data"
    },
    {
     "name": "stdout",
     "output_type": "stream",
     "text": [
      "Exited.\n"
     ]
    }
   ],
   "source": [
    "stream = cv2.VideoCapture(source_videos[0])\n",
    "\n",
    "categories = [\n",
    "    {\n",
    "        'name': 'Fire',\n",
    "        'supercategory': '',\n",
    "        'id': 1,\n",
    "    },\n",
    "    {\n",
    "        'name': 'Smoke',\n",
    "        'supercategory': '',\n",
    "        'id': 2,\n",
    "    },\n",
    "]\n",
    "\n",
    "# COCO_writer\n",
    "coco_writer = COCO_writer(categories)\n",
    "\n",
    "# Fire augmentations\n",
    "fire_augment = Augmentations(png_effects,\n",
    "                             mov_effects,\n",
    "                             cat_id=coco_writer.get_cat_id('Fire'),\n",
    "                             do_resize=True,\n",
    "                             do_flip=True,\n",
    "                             do_rotate=False,\n",
    "                            )\n",
    "\n",
    "# Create writer\n",
    "frame_width = int(stream.get(3))\n",
    "frame_height = int(stream.get(4))\n",
    "total_frames = int(stream.get(7))\n",
    "out_stream = cv2.VideoWriter(vid_out_path, cv2.VideoWriter_fourcc(*'MPEG'), 24, (frame_width, frame_height))\n",
    "\n",
    "pbar = tqdm(total=total_frames)\n",
    "frame_num = 0\n",
    "try:\n",
    "    while stream.isOpened():\n",
    "        _, frame = stream.read()\n",
    "        if frame is None:\n",
    "            print(\"No image in the stream, stopping.\")\n",
    "            break\n",
    "\n",
    "        image_name = f'image_{10:06d}.jpg'\n",
    "        coco_writer.add_frame(*frame.shape[:2], image_name)\n",
    "        frame = fire_augment.augment(frame, frame_num, coco_writer)\n",
    "        out_stream.write(frame)\n",
    "        pbar.update(1)\n",
    "\n",
    "        frame = cv2.resize(frame, (720, 480))\n",
    "        cv2.imshow('annotated', frame)\n",
    "        # Exit on key `q`.\n",
    "        frame_num += 1\n",
    "        if cv2.waitKey(1) & 0xFF == ord('q'):\n",
    "            break\n",
    "except KeyboardInterrupt:\n",
    "    print('Exited.')\n",
    "finally:\n",
    "    # Write annotations.\n",
    "    os.makedirs(os.path.split(annot_out_path)[0], exist_ok=True)\n",
    "    coco_writer.write_result(annot_out_path)\n",
    "    # Close streams.\n",
    "    stream.release()\n",
    "    out_stream.release()\n",
    "    cv2.destroyAllWindows()"
   ]
  },
  {
   "cell_type": "markdown",
   "metadata": {},
   "source": [
    "#### TODO\n",
    "\n",
    "\n",
    "##### General\n",
    "* написать loop чтобы обработать все видосы\n",
    "\n",
    "##### Preparation\n",
    "* <s>remove clear pixels</s>\n",
    "\n",
    "\n",
    "##### Augmentation\n",
    "* <s>cover all image</s>\n",
    "* <s>change sizes</s>\n",
    "* <s>flip</s>\n",
    "* <s>add animations</s>\n",
    "* <s>proper resizing</s>\n",
    "* <s>make an offset point a down center point of the effect image.</s>\n",
    "* warp perspective\n",
    "* <s>fix merging with video - fix: Color keying</s>\n",
    "* <s>change angle</s>\n",
    "* fix change of angle (maybe polygon annotation?)\n",
    "* поиграться с color keying'ом, чтобы более плавные переходы в нём были\n",
    "\n",
    "##### Annotation\n",
    "* <s>add dynamic bboxes for videos</s>\n",
    "* <s>fix bboxes for some videos</s>\n",
    "* <s>annotate all videos</s>\n",
    "* <s>annotation for images</s>\n",
    "* <s>scaling bboxes</s>\n",
    "* <s>rotating bboxes</s>\n",
    "* <s>Write to COCO</s>\n",
    "* разметить эффекты не боксом, а полигоном, чтобы можно было нормально поворачивать эффект и при этом иметь нормальный бокс\n",
    "\n"
   ]
  },
  {
   "cell_type": "markdown",
   "metadata": {},
   "source": [
    "## Working with videos\n",
    "\n",
    "#### Scale down with keeping alpha channel\n",
    "```shell\n",
    "ffmpeg -i in.mov -filter:v scale=720:-1 -c:v qtrle out.mov\n",
    "```\n",
    "\n",
    "#### `.mov` to `.webm` keeping  alpha channel\n",
    "\n",
    "```shell\n",
    "ffmpeg -i in.mov -c:v libvpx -pix_fmt yuva420p -auto-alt-ref 0 out.webm\n",
    "```\n",
    "\n",
    "#### Extract alpha channel from `.webm`\n",
    "\n",
    "```shell\n",
    "ffmpeg -vcodec libvpx -i in.webm -vf alphaextract -y out.mp4\n",
    "```\n",
    "\n",
    "\n",
    "#### Extract alpha channel from `.mov`\n",
    "\n",
    "```shell\n",
    "ffmpeg -i in.mov -vf alphaextract,format=yuv420p out.mp4\n",
    "```\n",
    "\n",
    "#### Compress resulting video\n",
    "```shell\n",
    "ffmpeg -i out.mp4 -vcodec h264 -b:v 1000k -acodec mp2 compressed_out.mp4 -y\n",
    "```"
   ]
  }
 ],
 "metadata": {
  "kernelspec": {
   "display_name": "Python 3",
   "language": "python",
   "name": "python3"
  },
  "language_info": {
   "codemirror_mode": {
    "name": "ipython",
    "version": 3
   },
   "file_extension": ".py",
   "mimetype": "text/x-python",
   "name": "python",
   "nbconvert_exporter": "python",
   "pygments_lexer": "ipython3",
   "version": "3.7.7"
  }
 },
 "nbformat": 4,
 "nbformat_minor": 4
}
