{
 "cells": [
  {
   "cell_type": "code",
   "execution_count": 1,
   "metadata": {},
   "outputs": [],
   "source": [
    "import json\n",
    "import numpy as np\n",
    "import cv2\n",
    "import os\n",
    "import shutil\n",
    "from tqdm.notebook import tqdm\n",
    "from glob import glob\n",
    "\n",
    "from writer import COCO_writer\n",
    "from bbox_utils import (convert_xywh_xyxy, convert_xyxy_xywh)"
   ]
  },
  {
   "cell_type": "code",
   "execution_count": 2,
   "metadata": {},
   "outputs": [
    {
     "data": {
      "text/plain": [
       "4017"
      ]
     },
     "execution_count": 2,
     "metadata": {},
     "output_type": "execute_result"
    }
   ],
   "source": [
    "len(glob('PublicDataset/*.jpg'))"
   ]
  },
  {
   "cell_type": "code",
   "execution_count": 3,
   "metadata": {},
   "outputs": [],
   "source": [
    "categories = [\n",
    "    {\n",
    "        'name': 'person',\n",
    "        'supercategory': '',\n",
    "        'id': 0,\n",
    "    },\n",
    "    {\n",
    "        'name': 'vehicle',\n",
    "        'supercategory': '',\n",
    "        'id': 1,\n",
    "    },\n",
    "    {\n",
    "        'name': 'fire',\n",
    "        'supercategory': '',\n",
    "        'id': 2,\n",
    "    },\n",
    "    {\n",
    "        'name': 'animal',\n",
    "        'supercategory': '',\n",
    "        'id': 3,\n",
    "    },\n",
    "    {\n",
    "        'name': 'smoke',\n",
    "        'supercategory': '',\n",
    "        'id': 4,\n",
    "    },\n",
    "]"
   ]
  },
  {
   "cell_type": "code",
   "execution_count": 4,
   "metadata": {},
   "outputs": [
    {
     "data": {
      "application/vnd.jupyter.widget-view+json": {
       "model_id": "1901a1bb0ee047029a5ad0c72fda4e34",
       "version_major": 2,
       "version_minor": 0
      },
      "text/plain": [
       "HBox(children=(FloatProgress(value=0.0, max=4017.0), HTML(value='')))"
      ]
     },
     "metadata": {},
     "output_type": "display_data"
    },
    {
     "name": "stdout",
     "output_type": "stream",
     "text": [
      "\n"
     ]
    }
   ],
   "source": [
    "id_to_name = {\n",
    "    0: 'smoke',\n",
    "    1: 'fire',\n",
    "}\n",
    "\n",
    "writer = COCO_writer(categories)\n",
    "\n",
    "\n",
    "track_id = 0\n",
    "for image_path in tqdm(glob('PublicDataset/*.jpg')):\n",
    "    image = cv2.imread(image_path)\n",
    "    ih, iw = image.shape[:2]\n",
    "    image_name = os.path.split(image_path)[1]\n",
    "    txt_path = os.path.splitext(image_path)[0] + '.txt'\n",
    "    annots = []\n",
    "    image_id, _ = writer.add_frame(*image.shape[:2], filename=image_name)\n",
    "    shutil.copyfile(image_path, os.path.join('images', image_name))\n",
    "    with open(txt_path) as in_file:\n",
    "        for line in in_file:\n",
    "            cat, x, y, bw, bh = line.split(' ')\n",
    "            cat, x, bw, y, bh = int(cat), float(x), float(bw), float(y), float(bh)\n",
    "            bbox = [\n",
    "                (x - bw / 2) * iw,\n",
    "                (y - bh / 2) * ih,\n",
    "                (x + bw / 2) * iw,\n",
    "                (y + bh / 2) * ih,\n",
    "                cat,\n",
    "            ]\n",
    "            annots.append(bbox)\n",
    "    annots = np.array(annots, dtype=np.int32)\n",
    "#     print(annots)\n",
    "    for b in annots:\n",
    "        cv2.rectangle(image, tuple(b[:2]), tuple(b[2:4]), (0, 0, 255), 3)\n",
    "        cv2.putText(image, id_to_name[b[-1]], tuple(b[:2]),\n",
    "                    cv2.FONT_HERSHEY_SIMPLEX,\n",
    "                    1, (255, 255, 255), 4)\n",
    "        bb = convert_xyxy_xywh(b[:4])\n",
    "        cat_id = writer.get_cat_id(id_to_name[b[-1]])\n",
    "        writer.add_annotation(image_id, bb, track_id, cat_id)\n",
    "        track_id += 1\n",
    "#     cv2.imshow('image', image)\n",
    "#     cv2.waitKey(0)\n",
    "writer.write_result(os.path.join('annotations', 'instances_default.json'))"
   ]
  },
  {
   "cell_type": "code",
   "execution_count": 36,
   "metadata": {},
   "outputs": [],
   "source": [
    "cv2.destroyAllWindows()"
   ]
  }
 ],
 "metadata": {
  "kernelspec": {
   "display_name": "Python 3",
   "language": "python",
   "name": "python3"
  },
  "language_info": {
   "codemirror_mode": {
    "name": "ipython",
    "version": 3
   },
   "file_extension": ".py",
   "mimetype": "text/x-python",
   "name": "python",
   "nbconvert_exporter": "python",
   "pygments_lexer": "ipython3",
   "version": "3.7.7"
  }
 },
 "nbformat": 4,
 "nbformat_minor": 4
}
